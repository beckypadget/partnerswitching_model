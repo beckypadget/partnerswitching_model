{
 "cells": [
  {
   "cell_type": "code",
   "execution_count": 2,
   "metadata": {},
   "outputs": [],
   "source": [
    "import numpy as np\n",
    "import scipy.stats as stats\n",
    "import matplotlib.pyplot as plt\n",
    "import pandas as pd\n",
    "import seaborn as sns\n",
    "import statsmodels.api as sm\n",
    "import tqdm as tqdm"
   ]
  },
  {
   "cell_type": "code",
   "execution_count": 44,
   "metadata": {},
   "outputs": [
    {
     "data": {
      "text/plain": [
       "(0.3921794217585376,\n",
       " 0.8420811013546268,\n",
       " -0.002099635817735427,\n",
       " 1.0000908416981709)"
      ]
     },
     "execution_count": 44,
     "metadata": {},
     "output_type": "execute_result"
    }
   ],
   "source": [
    "# plot beta distribution with a and b parameters\n",
    "a = 0.3\n",
    "b = 0.7\n",
    "x = np.linspace(0, 1, 100)\n",
    "y = stats.beta.rvs(a, b, size=100)\n",
    "# print(y)\n",
    "stats.beta.fit(y)"
   ]
  },
  {
   "cell_type": "code",
   "execution_count": 126,
   "metadata": {},
   "outputs": [],
   "source": [
    "def estimate_beta_moments(samples):\n",
    "    \"\"\"\n",
    "    Estimate alpha and beta using the method of moments.\n",
    "    \n",
    "    Parameters:\n",
    "    - samples (array-like): Observed data from a Beta distribution (values in (0,1))\n",
    "    \n",
    "    Returns:\n",
    "    - dict: Estimated alpha and beta\n",
    "    \"\"\"\n",
    "    samples = np.asarray(samples)\n",
    "    mean = np.mean(samples)\n",
    "    var = np.var(samples, ddof=1)\n",
    "\n",
    "    # Moment estimates\n",
    "    common = mean * (1 - mean) / var - 1\n",
    "    alpha = mean * common\n",
    "    beta = (1 - mean) * common\n",
    "    \n",
    "    return alpha, beta"
   ]
  },
  {
   "cell_type": "code",
   "execution_count": 128,
   "metadata": {},
   "outputs": [],
   "source": [
    "a = 4\n",
    "b = 1\n",
    "a, b = estimate_beta_moments(stats.beta.rvs(a, b, size=10))"
   ]
  },
  {
   "cell_type": "code",
   "execution_count": 129,
   "metadata": {},
   "outputs": [
    {
     "data": {
      "text/plain": [
       "6.362606544936732"
      ]
     },
     "execution_count": 129,
     "metadata": {},
     "output_type": "execute_result"
    }
   ],
   "source": [
    "a"
   ]
  },
  {
   "cell_type": "code",
   "execution_count": null,
   "metadata": {},
   "outputs": [],
   "source": []
  }
 ],
 "metadata": {
  "kernelspec": {
   "display_name": "bayesian_switching",
   "language": "python",
   "name": "python3"
  },
  "language_info": {
   "codemirror_mode": {
    "name": "ipython",
    "version": 3
   },
   "file_extension": ".py",
   "mimetype": "text/x-python",
   "name": "python",
   "nbconvert_exporter": "python",
   "pygments_lexer": "ipython3",
   "version": "3.12.4"
  }
 },
 "nbformat": 4,
 "nbformat_minor": 2
}
